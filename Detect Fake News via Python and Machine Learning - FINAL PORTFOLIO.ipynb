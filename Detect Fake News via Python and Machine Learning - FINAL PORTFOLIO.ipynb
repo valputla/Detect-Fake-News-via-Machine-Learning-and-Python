{
 "cells": [
  {
   "cell_type": "code",
   "execution_count": 7,
   "id": "022d9c52",
   "metadata": {},
   "outputs": [],
   "source": [
    "#Import dataset\n",
    "import pandas as pd\n",
    "news = pd.read_csv('/Users/lindseyvalput/Downloads/news.csv')"
   ]
  },
  {
   "cell_type": "code",
   "execution_count": 8,
   "id": "7eac2473",
   "metadata": {},
   "outputs": [
    {
     "data": {
      "text/html": [
       "<div>\n",
       "<style scoped>\n",
       "    .dataframe tbody tr th:only-of-type {\n",
       "        vertical-align: middle;\n",
       "    }\n",
       "\n",
       "    .dataframe tbody tr th {\n",
       "        vertical-align: top;\n",
       "    }\n",
       "\n",
       "    .dataframe thead th {\n",
       "        text-align: right;\n",
       "    }\n",
       "</style>\n",
       "<table border=\"1\" class=\"dataframe\">\n",
       "  <thead>\n",
       "    <tr style=\"text-align: right;\">\n",
       "      <th></th>\n",
       "      <th>Unnamed: 0</th>\n",
       "      <th>title</th>\n",
       "      <th>text</th>\n",
       "      <th>label</th>\n",
       "    </tr>\n",
       "  </thead>\n",
       "  <tbody>\n",
       "    <tr>\n",
       "      <th>0</th>\n",
       "      <td>8476</td>\n",
       "      <td>You Can Smell Hillary’s Fear</td>\n",
       "      <td>Daniel Greenfield, a Shillman Journalism Fello...</td>\n",
       "      <td>FAKE</td>\n",
       "    </tr>\n",
       "    <tr>\n",
       "      <th>1</th>\n",
       "      <td>10294</td>\n",
       "      <td>Watch The Exact Moment Paul Ryan Committed Pol...</td>\n",
       "      <td>Google Pinterest Digg Linkedin Reddit Stumbleu...</td>\n",
       "      <td>FAKE</td>\n",
       "    </tr>\n",
       "    <tr>\n",
       "      <th>2</th>\n",
       "      <td>3608</td>\n",
       "      <td>Kerry to go to Paris in gesture of sympathy</td>\n",
       "      <td>U.S. Secretary of State John F. Kerry said Mon...</td>\n",
       "      <td>REAL</td>\n",
       "    </tr>\n",
       "    <tr>\n",
       "      <th>3</th>\n",
       "      <td>10142</td>\n",
       "      <td>Bernie supporters on Twitter erupt in anger ag...</td>\n",
       "      <td>— Kaydee King (@KaydeeKing) November 9, 2016 T...</td>\n",
       "      <td>FAKE</td>\n",
       "    </tr>\n",
       "    <tr>\n",
       "      <th>4</th>\n",
       "      <td>875</td>\n",
       "      <td>The Battle of New York: Why This Primary Matters</td>\n",
       "      <td>It's primary day in New York and front-runners...</td>\n",
       "      <td>REAL</td>\n",
       "    </tr>\n",
       "  </tbody>\n",
       "</table>\n",
       "</div>"
      ],
      "text/plain": [
       "   Unnamed: 0                                              title  \\\n",
       "0        8476                       You Can Smell Hillary’s Fear   \n",
       "1       10294  Watch The Exact Moment Paul Ryan Committed Pol...   \n",
       "2        3608        Kerry to go to Paris in gesture of sympathy   \n",
       "3       10142  Bernie supporters on Twitter erupt in anger ag...   \n",
       "4         875   The Battle of New York: Why This Primary Matters   \n",
       "\n",
       "                                                text label  \n",
       "0  Daniel Greenfield, a Shillman Journalism Fello...  FAKE  \n",
       "1  Google Pinterest Digg Linkedin Reddit Stumbleu...  FAKE  \n",
       "2  U.S. Secretary of State John F. Kerry said Mon...  REAL  \n",
       "3  — Kaydee King (@KaydeeKing) November 9, 2016 T...  FAKE  \n",
       "4  It's primary day in New York and front-runners...  REAL  "
      ]
     },
     "execution_count": 8,
     "metadata": {},
     "output_type": "execute_result"
    }
   ],
   "source": [
    "#Explore the data\n",
    "news.head()"
   ]
  },
  {
   "cell_type": "code",
   "execution_count": 13,
   "id": "90fe8ef1",
   "metadata": {},
   "outputs": [
    {
     "name": "stdout",
     "output_type": "stream",
     "text": [
      "Index(['Unnamed: 0', 'title', 'text', 'label'], dtype='object')\n"
     ]
    }
   ],
   "source": [
    "print(news.columns)"
   ]
  },
  {
   "cell_type": "code",
   "execution_count": 15,
   "id": "08738077",
   "metadata": {},
   "outputs": [
    {
     "name": "stdout",
     "output_type": "stream",
     "text": [
      "Unnamed: 0     int64\n",
      "title         object\n",
      "text          object\n",
      "label         object\n",
      "dtype: object\n"
     ]
    }
   ],
   "source": [
    "print(news.dtypes)"
   ]
  },
  {
   "cell_type": "code",
   "execution_count": 17,
   "id": "ec3daa09",
   "metadata": {},
   "outputs": [
    {
     "name": "stdout",
     "output_type": "stream",
     "text": [
      "      Unnamed: 0  title   text  label\n",
      "0          False  False  False  False\n",
      "1          False  False  False  False\n",
      "2          False  False  False  False\n",
      "3          False  False  False  False\n",
      "4          False  False  False  False\n",
      "...          ...    ...    ...    ...\n",
      "6330       False  False  False  False\n",
      "6331       False  False  False  False\n",
      "6332       False  False  False  False\n",
      "6333       False  False  False  False\n",
      "6334       False  False  False  False\n",
      "\n",
      "[6335 rows x 4 columns]\n"
     ]
    }
   ],
   "source": [
    "print(news.isna())"
   ]
  },
  {
   "cell_type": "code",
   "execution_count": 27,
   "id": "fa244849",
   "metadata": {},
   "outputs": [],
   "source": [
    "import numpy as np\n",
    "import itertools\n",
    "from sklearn.model_selection import train_test_split\n",
    "from sklearn.feature_extraction.text import TfidfVectorizer\n",
    "from sklearn.linear_model import PassiveAggressiveClassifier\n",
    "from sklearn.metrics import accuracy_score, confusion_matrix"
   ]
  },
  {
   "cell_type": "code",
   "execution_count": 28,
   "id": "0ae2dfb3",
   "metadata": {},
   "outputs": [
    {
     "name": "stdout",
     "output_type": "stream",
     "text": [
      "(6335, 4)\n"
     ]
    }
   ],
   "source": [
    "print(news.shape)"
   ]
  },
  {
   "cell_type": "code",
   "execution_count": 32,
   "id": "e9706f7c",
   "metadata": {},
   "outputs": [
    {
     "name": "stdout",
     "output_type": "stream",
     "text": [
      "0    FAKE\n",
      "1    FAKE\n",
      "2    REAL\n",
      "3    FAKE\n",
      "4    REAL\n",
      "Name: label, dtype: object\n"
     ]
    }
   ],
   "source": [
    "labels = news.label\n",
    "print(labels.head())"
   ]
  },
  {
   "cell_type": "code",
   "execution_count": 34,
   "id": "9feb8b84",
   "metadata": {},
   "outputs": [],
   "source": [
    "#Split the dataset\n",
    "x_train, x_test, y_train, y_test = train_test_split(news['text'], labels, test_size = 0.2, random_state = 7)"
   ]
  },
  {
   "cell_type": "code",
   "execution_count": 37,
   "id": "9f26434e",
   "metadata": {},
   "outputs": [],
   "source": [
    "#Fit and transform train set, transform test set\n",
    "vectorizer = TfidfVectorizer(stop_words = 'english', max_df=0.7)\n",
    "tfidf_train = vectorizer.fit_transform(x_train)\n",
    "tfidf_test = vectorizer.transform(x_test)"
   ]
  },
  {
   "cell_type": "code",
   "execution_count": 43,
   "id": "7dd15792",
   "metadata": {},
   "outputs": [
    {
     "name": "stdout",
     "output_type": "stream",
     "text": [
      "0.9281767955801105\n"
     ]
    }
   ],
   "source": [
    "#Predict on the test set and calculate accuracy\n",
    "\n",
    "pac = PassiveAggressiveClassifier(max_iter=50).fit(tfidf_train, y_train)\n",
    "pac_predict = pac.predict(tfidf_test)\n",
    "score = accuracy_score(y_test, pac_predict)\n",
    "print(score)\n",
    "\n",
    "#Our model is 92.82% accurate."
   ]
  },
  {
   "cell_type": "code",
   "execution_count": 45,
   "id": "75f6e87c",
   "metadata": {},
   "outputs": [
    {
     "name": "stdout",
     "output_type": "stream",
     "text": [
      "[[589  49]\n",
      " [ 42 587]]\n"
     ]
    }
   ],
   "source": [
    "print(confusion_matrix(y_test, pac_predict))"
   ]
  },
  {
   "cell_type": "code",
   "execution_count": null,
   "id": "8682c01a",
   "metadata": {},
   "outputs": [],
   "source": [
    "#With this model, we have 589 true positives, 42 false positives, 587 true negatives, 49 false negatives."
   ]
  }
 ],
 "metadata": {
  "kernelspec": {
   "display_name": "Python 3",
   "language": "python",
   "name": "python3"
  },
  "language_info": {
   "codemirror_mode": {
    "name": "ipython",
    "version": 3
   },
   "file_extension": ".py",
   "mimetype": "text/x-python",
   "name": "python",
   "nbconvert_exporter": "python",
   "pygments_lexer": "ipython3",
   "version": "3.8.8"
  }
 },
 "nbformat": 4,
 "nbformat_minor": 5
}
